{
 "cells": [
  {
   "cell_type": "markdown",
   "id": "319b8ac3",
   "metadata": {
    "papermill": {
     "duration": 0.006378,
     "end_time": "2024-08-18T15:32:51.570008",
     "exception": false,
     "start_time": "2024-08-18T15:32:51.563630",
     "status": "completed"
    },
    "tags": []
   },
   "source": [
    "**This notebook is an exercise in the [Computer Vision](https://www.kaggle.com/learn/computer-vision) course.  You can reference the tutorial at [this link](https://www.kaggle.com/ryanholbrook/the-convolutional-classifier).**\n",
    "\n",
    "---\n"
   ]
  },
  {
   "cell_type": "markdown",
   "id": "1425df6a",
   "metadata": {
    "papermill": {
     "duration": 0.005731,
     "end_time": "2024-08-18T15:32:51.581639",
     "exception": false,
     "start_time": "2024-08-18T15:32:51.575908",
     "status": "completed"
    },
    "tags": []
   },
   "source": [
    "<blockquote style=\"margin-right:auto; margin-left:auto; padding: 1em; margin:24px;\">\n",
    "    <strong>Accelerate Training with a Kaggle GPU!</strong><br>\n",
    "Did you know Kaggle offers free time with a GPU accelerator? You can speed up training neural networks in this course by switching to <strong>GPU</strong> in the <em>Accelerator</em> option on the right. (It may already be turned on.) Two things to be aware of:\n",
    "<ul>\n",
    "<li>Changing the <em>Accelerator</em> option will cause the notebook session to restart. You'll need to rerun any setup code.\n",
    "<li>You can have only one GPU session at a time, so be sure to shut the notebook down after you've finished the exercise.\n",
    "</ul>\n",
    "</blockquote>"
   ]
  },
  {
   "cell_type": "markdown",
   "id": "bda051a1",
   "metadata": {
    "papermill": {
     "duration": 0.005463,
     "end_time": "2024-08-18T15:32:51.592916",
     "exception": false,
     "start_time": "2024-08-18T15:32:51.587453",
     "status": "completed"
    },
    "tags": []
   },
   "source": [
    "# Introduction #\n",
    "\n",
    "In the tutorial, we saw how to build an image classifier by attaching a head of dense layers to a pretrained base. The base we used was from a model called **VGG16**. We saw that the VGG16 architecture was prone to overfitting this dataset. Over this course, you'll learn a number of ways you can improve upon this initial attempt.\n",
    "\n",
    "The first way you'll see is to use a base more appropriate to the dataset. The base this model comes from is called **InceptionV1** (also known as GoogLeNet). InceptionV1 was one of the early winners of the ImageNet competition. One of its successors, InceptionV4, is among the state of the art today.\n",
    "\n",
    "To get started, run the code cell below to set everything up."
   ]
  },
  {
   "cell_type": "code",
   "execution_count": 1,
   "id": "8d737db2",
   "metadata": {
    "execution": {
     "iopub.execute_input": "2024-08-18T15:32:51.605994Z",
     "iopub.status.busy": "2024-08-18T15:32:51.605648Z",
     "iopub.status.idle": "2024-08-18T15:33:13.110838Z",
     "shell.execute_reply": "2024-08-18T15:33:13.110078Z"
    },
    "lines_to_next_cell": 2,
    "papermill": {
     "duration": 21.514603,
     "end_time": "2024-08-18T15:33:13.113157",
     "exception": false,
     "start_time": "2024-08-18T15:32:51.598554",
     "status": "completed"
    },
    "tags": []
   },
   "outputs": [
    {
     "name": "stderr",
     "output_type": "stream",
     "text": [
      "2024-08-18 15:32:54.678639: E external/local_xla/xla/stream_executor/cuda/cuda_dnn.cc:9261] Unable to register cuDNN factory: Attempting to register factory for plugin cuDNN when one has already been registered\n",
      "2024-08-18 15:32:54.678764: E external/local_xla/xla/stream_executor/cuda/cuda_fft.cc:607] Unable to register cuFFT factory: Attempting to register factory for plugin cuFFT when one has already been registered\n",
      "2024-08-18 15:32:54.866321: E external/local_xla/xla/stream_executor/cuda/cuda_blas.cc:1515] Unable to register cuBLAS factory: Attempting to register factory for plugin cuBLAS when one has already been registered\n"
     ]
    },
    {
     "name": "stdout",
     "output_type": "stream",
     "text": [
      "Found 5117 files belonging to 2 classes.\n",
      "Found 5051 files belonging to 2 classes.\n"
     ]
    }
   ],
   "source": [
    "# Setup feedback system\n",
    "from learntools.core import binder\n",
    "binder.bind(globals())\n",
    "from learntools.computer_vision.ex1 import *\n",
    "\n",
    "# Imports\n",
    "import os, warnings\n",
    "import matplotlib.pyplot as plt\n",
    "from matplotlib import gridspec\n",
    "\n",
    "import numpy as np\n",
    "import tensorflow as tf\n",
    "from tensorflow.keras.preprocessing import image_dataset_from_directory\n",
    "\n",
    "# Reproducability\n",
    "def set_seed(seed=31415):\n",
    "    np.random.seed(seed)\n",
    "    tf.random.set_seed(seed)\n",
    "    os.environ['PYTHONHASHSEED'] = str(seed)\n",
    "    os.environ['TF_DETERMINISTIC_OPS'] = '1'\n",
    "set_seed()\n",
    "\n",
    "# Set Matplotlib defaults\n",
    "plt.rc('figure', autolayout=True)\n",
    "plt.rc('axes', labelweight='bold', labelsize='large',\n",
    "       titleweight='bold', titlesize=18, titlepad=10)\n",
    "plt.rc('image', cmap='magma')\n",
    "warnings.filterwarnings(\"ignore\") # to clean up output cells\n",
    "\n",
    "\n",
    "# Load training and validation sets\n",
    "ds_train_ = image_dataset_from_directory(\n",
    "    '../input/car-or-truck/train',\n",
    "    labels='inferred',\n",
    "    label_mode='binary',\n",
    "    image_size=[128, 128],\n",
    "    interpolation='nearest',\n",
    "    batch_size=64,\n",
    "    shuffle=True,\n",
    ")\n",
    "ds_valid_ = image_dataset_from_directory(\n",
    "    '../input/car-or-truck/valid',\n",
    "    labels='inferred',\n",
    "    label_mode='binary',\n",
    "    image_size=[128, 128],\n",
    "    interpolation='nearest',\n",
    "    batch_size=64,\n",
    "    shuffle=False,\n",
    ")\n",
    "\n",
    "# Data Pipeline\n",
    "def convert_to_float(image, label):\n",
    "    image = tf.image.convert_image_dtype(image, dtype=tf.float32)\n",
    "    return image, label\n",
    "\n",
    "AUTOTUNE = tf.data.experimental.AUTOTUNE\n",
    "ds_train = (\n",
    "    ds_train_\n",
    "    .map(convert_to_float)\n",
    "    .cache()\n",
    "    .prefetch(buffer_size=AUTOTUNE)\n",
    ")\n",
    "ds_valid = (\n",
    "    ds_valid_\n",
    "    .map(convert_to_float)\n",
    "    .cache()\n",
    "    .prefetch(buffer_size=AUTOTUNE)\n",
    ")\n"
   ]
  },
  {
   "cell_type": "markdown",
   "id": "c41af9d0",
   "metadata": {
    "papermill": {
     "duration": 0.005951,
     "end_time": "2024-08-18T15:33:13.125439",
     "exception": false,
     "start_time": "2024-08-18T15:33:13.119488",
     "status": "completed"
    },
    "tags": []
   },
   "source": [
    "The **InceptionV1** model pretrained on ImageNet is available in the [TensorFlow Hub](https://www.tensorflow.org/hub/) repository, but we'll load it from a local copy. Run this cell to load InceptionV1 for your base."
   ]
  },
  {
   "cell_type": "code",
   "execution_count": 2,
   "id": "da5f8376",
   "metadata": {
    "execution": {
     "iopub.execute_input": "2024-08-18T15:33:13.138896Z",
     "iopub.status.busy": "2024-08-18T15:33:13.138394Z",
     "iopub.status.idle": "2024-08-18T15:33:17.163949Z",
     "shell.execute_reply": "2024-08-18T15:33:17.163165Z"
    },
    "lines_to_next_cell": 0,
    "papermill": {
     "duration": 4.03477,
     "end_time": "2024-08-18T15:33:17.166170",
     "exception": false,
     "start_time": "2024-08-18T15:33:13.131400",
     "status": "completed"
    },
    "tags": []
   },
   "outputs": [],
   "source": [
    "import tensorflow_hub as hub\n",
    "\n",
    "pretrained_base = tf.keras.models.load_model(\n",
    "    '../input/cv-course-models/cv-course-models/inceptionv1'\n",
    ")"
   ]
  },
  {
   "cell_type": "markdown",
   "id": "cf254636",
   "metadata": {
    "papermill": {
     "duration": 0.005962,
     "end_time": "2024-08-18T15:33:17.178601",
     "exception": false,
     "start_time": "2024-08-18T15:33:17.172639",
     "status": "completed"
    },
    "tags": []
   },
   "source": [
    "# 1) Define Pretrained Base #\n",
    "\n",
    "Now that you have a pretrained base to do our feature extraction, decide whether this base should be trainable or not."
   ]
  },
  {
   "cell_type": "code",
   "execution_count": 3,
   "id": "1fb09d4f",
   "metadata": {
    "execution": {
     "iopub.execute_input": "2024-08-18T15:33:17.192419Z",
     "iopub.status.busy": "2024-08-18T15:33:17.191691Z",
     "iopub.status.idle": "2024-08-18T15:33:17.200488Z",
     "shell.execute_reply": "2024-08-18T15:33:17.199628Z"
    },
    "lines_to_next_cell": 0,
    "papermill": {
     "duration": 0.017801,
     "end_time": "2024-08-18T15:33:17.202426",
     "exception": false,
     "start_time": "2024-08-18T15:33:17.184625",
     "status": "completed"
    },
    "tags": []
   },
   "outputs": [
    {
     "data": {
      "application/javascript": [
       "parent.postMessage({\"jupyterEvent\": \"custom.exercise_interaction\", \"data\": {\"outcomeType\": 1, \"valueTowardsCompletion\": 0.25, \"interactionType\": 1, \"questionType\": 2, \"questionId\": \"1_Q1\", \"learnToolsVersion\": \"0.3.4\", \"failureMessage\": \"\", \"exceptionClass\": \"\", \"trace\": \"\"}}, \"*\")"
      ],
      "text/plain": [
       "<IPython.core.display.Javascript object>"
      ]
     },
     "metadata": {},
     "output_type": "display_data"
    },
    {
     "data": {
      "text/markdown": [
       "<span style=\"color:#33cc33\">Correct:</span> When doing transfer learning, it's generally not a good idea to retrain the entire base -- at least not without some care. The reason is that the random weights in the head will initially create large gradient updates, which propogate back into the base layers and destroy much of the pretraining. Using techniques known as **fine tuning** it's possible to further train the base on new data, but this requires some care to do well."
      ],
      "text/plain": [
       "Correct: When doing transfer learning, it's generally not a good idea to retrain the entire base -- at least not without some care. The reason is that the random weights in the head will initially create large gradient updates, which propogate back into the base layers and destroy much of the pretraining. Using techniques known as **fine tuning** it's possible to further train the base on new data, but this requires some care to do well."
      ]
     },
     "metadata": {},
     "output_type": "display_data"
    }
   ],
   "source": [
    "# YOUR_CODE_HERE\n",
    "pretrained_base.trainable = False\n",
    "\n",
    "# Check your answer\n",
    "q_1.check()"
   ]
  },
  {
   "cell_type": "code",
   "execution_count": 4,
   "id": "b696c40f",
   "metadata": {
    "execution": {
     "iopub.execute_input": "2024-08-18T15:33:17.216547Z",
     "iopub.status.busy": "2024-08-18T15:33:17.215910Z",
     "iopub.status.idle": "2024-08-18T15:33:17.219446Z",
     "shell.execute_reply": "2024-08-18T15:33:17.218605Z"
    },
    "papermill": {
     "duration": 0.012535,
     "end_time": "2024-08-18T15:33:17.221294",
     "exception": false,
     "start_time": "2024-08-18T15:33:17.208759",
     "status": "completed"
    },
    "tags": []
   },
   "outputs": [],
   "source": [
    "# Lines below will give you a hint or solution code\n",
    "#q_1.hint()\n",
    "#q_1.solution()"
   ]
  },
  {
   "cell_type": "markdown",
   "id": "4ea17a5c",
   "metadata": {
    "papermill": {
     "duration": 0.006111,
     "end_time": "2024-08-18T15:33:17.234568",
     "exception": false,
     "start_time": "2024-08-18T15:33:17.228457",
     "status": "completed"
    },
    "tags": []
   },
   "source": [
    "# 2) Attach Head #\n",
    "\n",
    "Now that the base is defined to do the feature extraction, create a head of `Dense` layers to perform the classification, following this diagram:\n",
    "\n",
    "<figure>\n",
    "<img src=\"https://storage.googleapis.com/kaggle-media/learn/images/i5VU7Ry.png\" alt=\"Diagram of the dense head.\">\n",
    "</figure>\n"
   ]
  },
  {
   "cell_type": "code",
   "execution_count": 5,
   "id": "89707d20",
   "metadata": {
    "execution": {
     "iopub.execute_input": "2024-08-18T15:33:17.248481Z",
     "iopub.status.busy": "2024-08-18T15:33:17.247972Z",
     "iopub.status.idle": "2024-08-18T15:33:17.265930Z",
     "shell.execute_reply": "2024-08-18T15:33:17.265063Z"
    },
    "lines_to_next_cell": 0,
    "papermill": {
     "duration": 0.026933,
     "end_time": "2024-08-18T15:33:17.267858",
     "exception": false,
     "start_time": "2024-08-18T15:33:17.240925",
     "status": "completed"
    },
    "tags": []
   },
   "outputs": [
    {
     "data": {
      "application/javascript": [
       "parent.postMessage({\"jupyterEvent\": \"custom.exercise_interaction\", \"data\": {\"outcomeType\": 1, \"valueTowardsCompletion\": 0.25, \"interactionType\": 1, \"questionType\": 2, \"questionId\": \"2_Q2\", \"learnToolsVersion\": \"0.3.4\", \"failureMessage\": \"\", \"exceptionClass\": \"\", \"trace\": \"\"}}, \"*\")"
      ],
      "text/plain": [
       "<IPython.core.display.Javascript object>"
      ]
     },
     "metadata": {},
     "output_type": "display_data"
    },
    {
     "data": {
      "text/markdown": [
       "<span style=\"color:#33cc33\">Correct</span>"
      ],
      "text/plain": [
       "Correct"
      ]
     },
     "metadata": {},
     "output_type": "display_data"
    }
   ],
   "source": [
    "from tensorflow import keras\n",
    "from tensorflow.keras import layers\n",
    "\n",
    "model = keras.Sequential([\n",
    "    pretrained_base,\n",
    "    layers.Flatten(),\n",
    "    layers.Dense(6, activation='relu'),\n",
    "    layers.Dense(1, activation='sigmoid'),\n",
    "])\n",
    "\n",
    "# Check your answer\n",
    "q_2.check()"
   ]
  },
  {
   "cell_type": "code",
   "execution_count": 6,
   "id": "4df8721c",
   "metadata": {
    "execution": {
     "iopub.execute_input": "2024-08-18T15:33:17.282197Z",
     "iopub.status.busy": "2024-08-18T15:33:17.281683Z",
     "iopub.status.idle": "2024-08-18T15:33:17.285084Z",
     "shell.execute_reply": "2024-08-18T15:33:17.284281Z"
    },
    "papermill": {
     "duration": 0.012895,
     "end_time": "2024-08-18T15:33:17.287286",
     "exception": false,
     "start_time": "2024-08-18T15:33:17.274391",
     "status": "completed"
    },
    "tags": []
   },
   "outputs": [],
   "source": [
    "# Lines below will give you a hint or solution code\n",
    "#q_2.hint()\n",
    "#q_2.solution()"
   ]
  },
  {
   "cell_type": "markdown",
   "id": "089599f7",
   "metadata": {
    "papermill": {
     "duration": 0.006529,
     "end_time": "2024-08-18T15:33:17.300521",
     "exception": false,
     "start_time": "2024-08-18T15:33:17.293992",
     "status": "completed"
    },
    "tags": []
   },
   "source": [
    "# 3) Train #\n",
    "\n",
    "Before training a model in Keras, you need to specify an *optimizer* to perform the gradient descent, a *loss function* to be minimized, and (optionally) any *performance metrics*. The optimization algorithm we'll use for this course is called [\"Adam\"](https://keras.io/api/optimizers/adam/), which generally performs well regardless of what kind of problem you're trying to solve.\n",
    "\n",
    "The loss and the metrics, however, need to match the kind of problem you're trying to solve. Our problem is a **binary classification** problem: `Car` coded as 0, and `Truck` coded as 1. Choose an appropriate loss and an appropriate accuracy metric for binary classification."
   ]
  },
  {
   "cell_type": "code",
   "execution_count": 7,
   "id": "480fd06e",
   "metadata": {
    "execution": {
     "iopub.execute_input": "2024-08-18T15:33:17.314883Z",
     "iopub.status.busy": "2024-08-18T15:33:17.314278Z",
     "iopub.status.idle": "2024-08-18T15:33:17.345449Z",
     "shell.execute_reply": "2024-08-18T15:33:17.344513Z"
    },
    "lines_to_next_cell": 0,
    "papermill": {
     "duration": 0.040264,
     "end_time": "2024-08-18T15:33:17.347329",
     "exception": false,
     "start_time": "2024-08-18T15:33:17.307065",
     "status": "completed"
    },
    "tags": []
   },
   "outputs": [
    {
     "data": {
      "application/javascript": [
       "parent.postMessage({\"jupyterEvent\": \"custom.exercise_interaction\", \"data\": {\"outcomeType\": 1, \"valueTowardsCompletion\": 0.25, \"interactionType\": 1, \"questionType\": 2, \"questionId\": \"3_Q3\", \"learnToolsVersion\": \"0.3.4\", \"failureMessage\": \"\", \"exceptionClass\": \"\", \"trace\": \"\"}}, \"*\")"
      ],
      "text/plain": [
       "<IPython.core.display.Javascript object>"
      ]
     },
     "metadata": {},
     "output_type": "display_data"
    },
    {
     "data": {
      "text/markdown": [
       "<span style=\"color:#33cc33\">Correct</span>"
      ],
      "text/plain": [
       "Correct"
      ]
     },
     "metadata": {},
     "output_type": "display_data"
    }
   ],
   "source": [
    "# YOUR CODE HERE: what loss function should you use for a binary\n",
    "# classification problem? (Your answer for each should be a string.)\n",
    "optimizer = tf.keras.optimizers.Adam(epsilon=0.01)\n",
    "model.compile(\n",
    "    optimizer='adam',\n",
    "    loss='binary_crossentropy',\n",
    "    metrics=['binary_accuracy'],\n",
    ")\n",
    "\n",
    "# Check your answer\n",
    "q_3.check()"
   ]
  },
  {
   "cell_type": "code",
   "execution_count": 8,
   "id": "44a76e5f",
   "metadata": {
    "execution": {
     "iopub.execute_input": "2024-08-18T15:33:17.362528Z",
     "iopub.status.busy": "2024-08-18T15:33:17.362057Z",
     "iopub.status.idle": "2024-08-18T15:33:17.366136Z",
     "shell.execute_reply": "2024-08-18T15:33:17.364662Z"
    },
    "lines_to_next_cell": 0,
    "papermill": {
     "duration": 0.01419,
     "end_time": "2024-08-18T15:33:17.368509",
     "exception": false,
     "start_time": "2024-08-18T15:33:17.354319",
     "status": "completed"
    },
    "tags": []
   },
   "outputs": [],
   "source": [
    "# Lines below will give you a hint or solution code\n",
    "#q_3.hint()\n",
    "#q_3.solution()"
   ]
  },
  {
   "cell_type": "code",
   "execution_count": 9,
   "id": "5caab6d7",
   "metadata": {
    "execution": {
     "iopub.execute_input": "2024-08-18T15:33:17.384020Z",
     "iopub.status.busy": "2024-08-18T15:33:17.383402Z",
     "iopub.status.idle": "2024-08-18T15:35:32.210235Z",
     "shell.execute_reply": "2024-08-18T15:35:32.209314Z"
    },
    "papermill": {
     "duration": 134.836897,
     "end_time": "2024-08-18T15:35:32.212337",
     "exception": false,
     "start_time": "2024-08-18T15:33:17.375440",
     "status": "completed"
    },
    "tags": []
   },
   "outputs": [
    {
     "name": "stdout",
     "output_type": "stream",
     "text": [
      "Epoch 1/30\n"
     ]
    },
    {
     "name": "stderr",
     "output_type": "stream",
     "text": [
      "WARNING: All log messages before absl::InitializeLog() is called are written to STDERR\n",
      "I0000 00:00:1723995205.481458      77 device_compiler.h:186] Compiled cluster using XLA!  This line is logged at most once for the lifetime of the process.\n"
     ]
    },
    {
     "name": "stdout",
     "output_type": "stream",
     "text": [
      "80/80 [==============================] - 20s 141ms/step - loss: 0.4567 - binary_accuracy: 0.7889 - val_loss: 0.3784 - val_binary_accuracy: 0.8369\n",
      "Epoch 2/30\n",
      "80/80 [==============================] - 4s 49ms/step - loss: 0.3722 - binary_accuracy: 0.8329 - val_loss: 0.3577 - val_binary_accuracy: 0.8472\n",
      "Epoch 3/30\n",
      "80/80 [==============================] - 4s 49ms/step - loss: 0.3465 - binary_accuracy: 0.8489 - val_loss: 0.3471 - val_binary_accuracy: 0.8487\n",
      "Epoch 4/30\n",
      "80/80 [==============================] - 4s 50ms/step - loss: 0.3297 - binary_accuracy: 0.8609 - val_loss: 0.3389 - val_binary_accuracy: 0.8537\n",
      "Epoch 5/30\n",
      "80/80 [==============================] - 4s 49ms/step - loss: 0.3157 - binary_accuracy: 0.8685 - val_loss: 0.3342 - val_binary_accuracy: 0.8563\n",
      "Epoch 6/30\n",
      "80/80 [==============================] - 4s 49ms/step - loss: 0.3041 - binary_accuracy: 0.8755 - val_loss: 0.3308 - val_binary_accuracy: 0.8565\n",
      "Epoch 7/30\n",
      "80/80 [==============================] - 4s 49ms/step - loss: 0.2954 - binary_accuracy: 0.8775 - val_loss: 0.3281 - val_binary_accuracy: 0.8575\n",
      "Epoch 8/30\n",
      "80/80 [==============================] - 4s 50ms/step - loss: 0.2860 - binary_accuracy: 0.8810 - val_loss: 0.3258 - val_binary_accuracy: 0.8604\n",
      "Epoch 9/30\n",
      "80/80 [==============================] - 4s 49ms/step - loss: 0.2777 - binary_accuracy: 0.8855 - val_loss: 0.3240 - val_binary_accuracy: 0.8636\n",
      "Epoch 10/30\n",
      "80/80 [==============================] - 4s 50ms/step - loss: 0.2710 - binary_accuracy: 0.8892 - val_loss: 0.3227 - val_binary_accuracy: 0.8624\n",
      "Epoch 11/30\n",
      "80/80 [==============================] - 4s 50ms/step - loss: 0.2642 - binary_accuracy: 0.8919 - val_loss: 0.3224 - val_binary_accuracy: 0.8632\n",
      "Epoch 12/30\n",
      "80/80 [==============================] - 4s 50ms/step - loss: 0.2598 - binary_accuracy: 0.8947 - val_loss: 0.3228 - val_binary_accuracy: 0.8640\n",
      "Epoch 13/30\n",
      "80/80 [==============================] - 4s 50ms/step - loss: 0.2534 - binary_accuracy: 0.8960 - val_loss: 0.3227 - val_binary_accuracy: 0.8656\n",
      "Epoch 14/30\n",
      "80/80 [==============================] - 4s 50ms/step - loss: 0.2481 - binary_accuracy: 0.8992 - val_loss: 0.3228 - val_binary_accuracy: 0.8628\n",
      "Epoch 15/30\n",
      "80/80 [==============================] - 4s 50ms/step - loss: 0.2452 - binary_accuracy: 0.9042 - val_loss: 0.3247 - val_binary_accuracy: 0.8660\n",
      "Epoch 16/30\n",
      "80/80 [==============================] - 4s 50ms/step - loss: 0.2430 - binary_accuracy: 0.9040 - val_loss: 0.3297 - val_binary_accuracy: 0.8648\n",
      "Epoch 17/30\n",
      "80/80 [==============================] - 4s 50ms/step - loss: 0.2390 - binary_accuracy: 0.9052 - val_loss: 0.3270 - val_binary_accuracy: 0.8644\n",
      "Epoch 18/30\n",
      "80/80 [==============================] - 4s 50ms/step - loss: 0.2312 - binary_accuracy: 0.9097 - val_loss: 0.3271 - val_binary_accuracy: 0.8650\n",
      "Epoch 19/30\n",
      "80/80 [==============================] - 4s 50ms/step - loss: 0.2265 - binary_accuracy: 0.9130 - val_loss: 0.3272 - val_binary_accuracy: 0.8646\n",
      "Epoch 20/30\n",
      "80/80 [==============================] - 4s 50ms/step - loss: 0.2219 - binary_accuracy: 0.9142 - val_loss: 0.3341 - val_binary_accuracy: 0.8622\n",
      "Epoch 21/30\n",
      "80/80 [==============================] - 4s 50ms/step - loss: 0.2183 - binary_accuracy: 0.9156 - val_loss: 0.3362 - val_binary_accuracy: 0.8624\n",
      "Epoch 22/30\n",
      "80/80 [==============================] - 4s 50ms/step - loss: 0.2152 - binary_accuracy: 0.9175 - val_loss: 0.3452 - val_binary_accuracy: 0.8626\n",
      "Epoch 23/30\n",
      "80/80 [==============================] - 4s 50ms/step - loss: 0.2123 - binary_accuracy: 0.9191 - val_loss: 0.3508 - val_binary_accuracy: 0.8600\n",
      "Epoch 24/30\n",
      "80/80 [==============================] - 4s 50ms/step - loss: 0.2095 - binary_accuracy: 0.9212 - val_loss: 0.3717 - val_binary_accuracy: 0.8612\n",
      "Epoch 25/30\n",
      "80/80 [==============================] - 4s 50ms/step - loss: 0.2144 - binary_accuracy: 0.9146 - val_loss: 0.3798 - val_binary_accuracy: 0.8630\n",
      "Epoch 26/30\n",
      "80/80 [==============================] - 4s 50ms/step - loss: 0.2130 - binary_accuracy: 0.9154 - val_loss: 0.3617 - val_binary_accuracy: 0.8616\n",
      "Epoch 27/30\n",
      "80/80 [==============================] - 4s 51ms/step - loss: 0.2142 - binary_accuracy: 0.9173 - val_loss: 0.3533 - val_binary_accuracy: 0.8646\n",
      "Epoch 28/30\n",
      "80/80 [==============================] - 4s 51ms/step - loss: 0.2139 - binary_accuracy: 0.9148 - val_loss: 0.3348 - val_binary_accuracy: 0.8646\n",
      "Epoch 29/30\n",
      "80/80 [==============================] - 4s 50ms/step - loss: 0.2029 - binary_accuracy: 0.9199 - val_loss: 0.3604 - val_binary_accuracy: 0.8618\n",
      "Epoch 30/30\n",
      "80/80 [==============================] - 4s 50ms/step - loss: 0.2059 - binary_accuracy: 0.9201 - val_loss: 0.3382 - val_binary_accuracy: 0.8646\n"
     ]
    }
   ],
   "source": [
    "history = model.fit(\n",
    "    ds_train,\n",
    "    validation_data=ds_valid,\n",
    "    epochs=30,\n",
    ")"
   ]
  },
  {
   "cell_type": "markdown",
   "id": "1fb351b9",
   "metadata": {
    "papermill": {
     "duration": 0.146841,
     "end_time": "2024-08-18T15:35:32.465675",
     "exception": false,
     "start_time": "2024-08-18T15:35:32.318834",
     "status": "completed"
    },
    "tags": []
   },
   "source": [
    "Run the cell below to plot the loss and metric curves for this training run."
   ]
  },
  {
   "cell_type": "code",
   "execution_count": 10,
   "id": "01b9d92a",
   "metadata": {
    "execution": {
     "iopub.execute_input": "2024-08-18T15:35:32.679267Z",
     "iopub.status.busy": "2024-08-18T15:35:32.678580Z",
     "iopub.status.idle": "2024-08-18T15:35:33.368943Z",
     "shell.execute_reply": "2024-08-18T15:35:33.368024Z"
    },
    "papermill": {
     "duration": 0.799195,
     "end_time": "2024-08-18T15:35:33.371100",
     "exception": false,
     "start_time": "2024-08-18T15:35:32.571905",
     "status": "completed"
    },
    "tags": []
   },
   "outputs": [
    {
     "data": {
      "image/png": "[encoded data removed]",
      "text/plain": [
       "<Figure size 640x480 with 1 Axes>"
      ]
     },
     "metadata": {},
     "output_type": "display_data"
    },
    {
     "data": {
      "image/png": "[encoded data removed]",
      "text/plain": [
       "<Figure size 640x480 with 1 Axes>"
      ]
     },
     "metadata": {},
     "output_type": "display_data"
    }
   ],
   "source": [
    "import pandas as pd\n",
    "history_frame = pd.DataFrame(history.history)\n",
    "history_frame.loc[:, ['loss', 'val_loss']].plot()\n",
    "history_frame.loc[:, ['binary_accuracy', 'val_binary_accuracy']].plot();"
   ]
  },
  {
   "cell_type": "markdown",
   "id": "df30badc",
   "metadata": {
    "papermill": {
     "duration": 0.108199,
     "end_time": "2024-08-18T15:35:33.588086",
     "exception": false,
     "start_time": "2024-08-18T15:35:33.479887",
     "status": "completed"
    },
    "tags": []
   },
   "source": [
    "# 4) Examine Loss and Accuracy #\n",
    "\n",
    "Do you notice a difference between these learning curves and the curves for VGG16 from the tutorial? What does this difference tell you about what this model (InceptionV2) learned compared to VGG16? Are there ways in which one is better than the other? Worse?\n",
    "\n",
    "After you've thought about it, run the cell below to see the answer."
   ]
  },
  {
   "cell_type": "code",
   "execution_count": 11,
   "id": "0e801ad7",
   "metadata": {
    "execution": {
     "iopub.execute_input": "2024-08-18T15:35:33.802806Z",
     "iopub.status.busy": "2024-08-18T15:35:33.802459Z",
     "iopub.status.idle": "2024-08-18T15:35:33.809824Z",
     "shell.execute_reply": "2024-08-18T15:35:33.809006Z"
    },
    "papermill": {
     "duration": 0.117279,
     "end_time": "2024-08-18T15:35:33.811612",
     "exception": false,
     "start_time": "2024-08-18T15:35:33.694333",
     "status": "completed"
    },
    "tags": []
   },
   "outputs": [
    {
     "data": {
      "application/javascript": [
       "parent.postMessage({\"jupyterEvent\": \"custom.exercise_interaction\", \"data\": {\"outcomeType\": 1, \"valueTowardsCompletion\": 0.25, \"interactionType\": 1, \"questionType\": 4, \"questionId\": \"4_Q4\", \"learnToolsVersion\": \"0.3.4\", \"failureMessage\": \"\", \"exceptionClass\": \"\", \"trace\": \"\"}}, \"*\")"
      ],
      "text/plain": [
       "<IPython.core.display.Javascript object>"
      ]
     },
     "metadata": {},
     "output_type": "display_data"
    },
    {
     "data": {
      "text/markdown": [
       "<span style=\"color:#33cc33\">Correct:</span> \n",
       "\n",
       "That the training loss and validation loss stay fairly close is evidence that the model isn't just memorizing the training data, but rather learning general properties of the two classes. But, because this model converges at a loss greater than the VGG16 model, it's likely that it is underfitting some, and could benefit from some extra capacity.\n"
      ],
      "text/plain": [
       "Correct: \n",
       "\n",
       "That the training loss and validation loss stay fairly close is evidence that the model isn't just memorizing the training data, but rather learning general properties of the two classes. But, because this model converges at a loss greater than the VGG16 model, it's likely that it is underfitting some, and could benefit from some extra capacity."
      ]
     },
     "metadata": {},
     "output_type": "display_data"
    }
   ],
   "source": [
    "# View the solution (Run this code cell to receive credit!)\n",
    "q_4.check()"
   ]
  },
  {
   "cell_type": "markdown",
   "id": "0729697c",
   "metadata": {
    "papermill": {
     "duration": 0.122986,
     "end_time": "2024-08-18T15:35:34.044656",
     "exception": false,
     "start_time": "2024-08-18T15:35:33.921670",
     "status": "completed"
    },
    "tags": []
   },
   "source": [
    "# Conclusion #\n",
    "\n",
    "In this first lesson, you learned the basics of **convolutional image classifiers**, that they consist of a **base** for extracting features from images, and a **head** which uses the features to decide the image's class. You also saw how to build a classifier with **transfer learning** on pretrained base. "
   ]
  },
  {
   "cell_type": "markdown",
   "id": "42b66808",
   "metadata": {
    "papermill": {
     "duration": 0.109992,
     "end_time": "2024-08-18T15:35:34.263841",
     "exception": false,
     "start_time": "2024-08-18T15:35:34.153849",
     "status": "completed"
    },
    "tags": []
   },
   "source": [
    "# Keep Going #\n",
    "\n",
    "Move on to [**Lesson 2**](https://www.kaggle.com/ryanholbrook/convolution-and-relu) for a detailed look at how the base does this feature extraction. (It's really cool!)"
   ]
  },
  {
   "cell_type": "markdown",
   "id": "9eeffa67",
   "metadata": {
    "papermill": {
     "duration": 0.126826,
     "end_time": "2024-08-18T15:35:34.495883",
     "exception": false,
     "start_time": "2024-08-18T15:35:34.369057",
     "status": "completed"
    },
    "tags": []
   },
   "source": [
    "---\n",
    "\n",
    "\n",
    "\n",
    "\n",
    "*Have questions or comments? Visit the [course discussion forum](https://www.kaggle.com/learn/computer-vision/discussion) to chat with other learners.*"
   ]
  }
 ],
 "metadata": {
  "jupytext": {
   "formats": "ipynb,md",
   "split_at_heading": true
  },
  "kaggle": {
   "accelerator": "nvidiaTeslaT4",
   "dataSources": [
    {
     "datasetId": 708136,
     "sourceId": 1338830,
     "sourceType": "datasetVersion"
    },
    {
     "datasetId": 701538,
     "sourceId": 1363948,
     "sourceType": "datasetVersion"
    },
    {
     "datasetId": 878523,
     "sourceId": 1495782,
     "sourceType": "datasetVersion"
    }
   ],
   "dockerImageVersionId": 30648,
   "isGpuEnabled": true,
   "isInternetEnabled": false,
   "language": "python",
   "sourceType": "notebook"
  },
  "kernelspec": {
   "display_name": "Python 3",
   "language": "python",
   "name": "python3"
  },
  "language_info": {
   "codemirror_mode": {
    "name": "ipython",
    "version": 3
   },
   "file_extension": ".py",
   "mimetype": "text/x-python",
   "name": "python",
   "nbconvert_exporter": "python",
   "pygments_lexer": "ipython3",
   "version": "3.10.13"
  },
  "papermill": {
   "default_parameters": {},
   "duration": 169.433622,
   "end_time": "2024-08-18T15:35:38.002621",
   "environment_variables": {},
   "exception": null,
   "input_path": "__notebook__.ipynb",
   "output_path": "__notebook__.ipynb",
   "parameters": {},
   "start_time": "2024-08-18T15:32:48.568999",
   "version": "2.5.0"
  }
 },
 "nbformat": 4,
 "nbformat_minor": 5
}
