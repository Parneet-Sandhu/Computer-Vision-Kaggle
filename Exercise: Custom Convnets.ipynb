{
 "cells": [
  {
   "cell_type": "markdown",
   "id": "650947eb",
   "metadata": {
    "papermill": {
     "duration": 0.006519,
     "end_time": "2024-08-24T10:39:38.951836",
     "exception": false,
     "start_time": "2024-08-24T10:39:38.945317",
     "status": "completed"
    },
    "tags": []
   },
   "source": [
    "**This notebook is an exercise in the [Computer Vision](https://www.kaggle.com/learn/computer-vision) course.  You can reference the tutorial at [this link](https://www.kaggle.com/ryanholbrook/custom-convnets).**\n",
    "\n",
    "---\n"
   ]
  },
  {
   "cell_type": "markdown",
   "id": "579aea4a",
   "metadata": {
    "papermill": {
     "duration": 0.005808,
     "end_time": "2024-08-24T10:39:38.963933",
     "exception": false,
     "start_time": "2024-08-24T10:39:38.958125",
     "status": "completed"
    },
    "tags": []
   },
   "source": [
    "# Introduction #\n",
    "\n",
    "In these exercises, you'll build a custom convnet with performance competitive to the VGG16 model from Lesson 1.\n",
    "\n",
    "Get started by running the code cell below."
   ]
  },
  {
   "cell_type": "code",
   "execution_count": 1,
   "id": "9794d4f8",
   "metadata": {
    "execution": {
     "iopub.execute_input": "2024-08-24T10:39:38.978388Z",
     "iopub.status.busy": "2024-08-24T10:39:38.977456Z",
     "iopub.status.idle": "2024-08-24T10:40:01.101506Z",
     "shell.execute_reply": "2024-08-24T10:40:01.100657Z"
    },
    "papermill": {
     "duration": 22.134128,
     "end_time": "2024-08-24T10:40:01.104028",
     "exception": false,
     "start_time": "2024-08-24T10:39:38.969900",
     "status": "completed"
    },
    "tags": []
   },
   "outputs": [
    {
     "name": "stderr",
     "output_type": "stream",
     "text": [
      "2024-08-24 10:39:42.098186: E external/local_xla/xla/stream_executor/cuda/cuda_dnn.cc:9261] Unable to register cuDNN factory: Attempting to register factory for plugin cuDNN when one has already been registered\n",
      "2024-08-24 10:39:42.098297: E external/local_xla/xla/stream_executor/cuda/cuda_fft.cc:607] Unable to register cuFFT factory: Attempting to register factory for plugin cuFFT when one has already been registered\n",
      "2024-08-24 10:39:42.278285: E external/local_xla/xla/stream_executor/cuda/cuda_blas.cc:1515] Unable to register cuBLAS factory: Attempting to register factory for plugin cuBLAS when one has already been registered\n"
     ]
    },
    {
     "name": "stdout",
     "output_type": "stream",
     "text": [
      "Found 5117 files belonging to 2 classes.\n",
      "Found 5051 files belonging to 2 classes.\n"
     ]
    }
   ],
   "source": [
    "# Setup feedback system\n",
    "from learntools.core import binder\n",
    "binder.bind(globals())\n",
    "from learntools.computer_vision.ex5 import *\n",
    "\n",
    "# Imports\n",
    "import os, warnings\n",
    "import matplotlib.pyplot as plt\n",
    "from matplotlib import gridspec\n",
    "\n",
    "import numpy as np\n",
    "import tensorflow as tf\n",
    "from tensorflow.keras.preprocessing import image_dataset_from_directory\n",
    "\n",
    "# Reproducability\n",
    "def set_seed(seed=31415):\n",
    "    np.random.seed(seed)\n",
    "    tf.random.set_seed(seed)\n",
    "    os.environ['PYTHONHASHSEED'] = str(seed)\n",
    "    os.environ['TF_DETERMINISTIC_OPS'] = '1'\n",
    "set_seed()\n",
    "\n",
    "# Set Matplotlib defaults\n",
    "plt.rc('figure', autolayout=True)\n",
    "plt.rc('axes', labelweight='bold', labelsize='large',\n",
    "       titleweight='bold', titlesize=18, titlepad=10)\n",
    "plt.rc('image', cmap='magma')\n",
    "warnings.filterwarnings(\"ignore\") # to clean up output cells\n",
    "\n",
    "\n",
    "# Load training and validation sets\n",
    "ds_train_ = image_dataset_from_directory(\n",
    "    '../input/car-or-truck/train',\n",
    "    labels='inferred',\n",
    "    label_mode='binary',\n",
    "    image_size=[128, 128],\n",
    "    interpolation='nearest',\n",
    "    batch_size=64,\n",
    "    shuffle=True,\n",
    ")\n",
    "ds_valid_ = image_dataset_from_directory(\n",
    "    '../input/car-or-truck/valid',\n",
    "    labels='inferred',\n",
    "    label_mode='binary',\n",
    "    image_size=[128, 128],\n",
    "    interpolation='nearest',\n",
    "    batch_size=64,\n",
    "    shuffle=False,\n",
    ")\n",
    "\n",
    "# Data Pipeline\n",
    "def convert_to_float(image, label):\n",
    "    image = tf.image.convert_image_dtype(image, dtype=tf.float32)\n",
    "    return image, label\n",
    "\n",
    "AUTOTUNE = tf.data.experimental.AUTOTUNE\n",
    "ds_train = (\n",
    "    ds_train_\n",
    "    .map(convert_to_float)\n",
    "    .cache()\n",
    "    .prefetch(buffer_size=AUTOTUNE)\n",
    ")\n",
    "ds_valid = (\n",
    "    ds_valid_\n",
    "    .map(convert_to_float)\n",
    "    .cache()\n",
    "    .prefetch(buffer_size=AUTOTUNE)\n",
    ")\n"
   ]
  },
  {
   "cell_type": "markdown",
   "id": "f819b066",
   "metadata": {
    "papermill": {
     "duration": 0.005349,
     "end_time": "2024-08-24T10:40:01.115278",
     "exception": false,
     "start_time": "2024-08-24T10:40:01.109929",
     "status": "completed"
    },
    "tags": []
   },
   "source": [
    "# Design a Convnet #\n",
    "\n",
    "Let's design a convolutional network with a block architecture like we saw in the tutorial. The model from the example had three blocks, each with a single convolutional layer. Its performance on the \"Car or Truck\" problem was okay, but far from what the pretrained VGG16 could achieve. It might be that our simple network lacks the ability to extract sufficiently complex features. We could try improving the model either by adding more blocks or by adding convolutions to the blocks we have.\n",
    "\n",
    "Let's go with the second approach. We'll keep the three block structure, but increase the number of `Conv2D` layer in the second block to two, and in the third block to three.\n",
    "\n",
    "<figure>\n",
    "<!-- <img src=\"./images/2-convmodel-2.png\" width=\"250\" alt=\"Diagram of a convolutional model.\"> -->\n",
    "<img src=\"https://storage.googleapis.com/kaggle-media/learn/images/Vko6nCK.png\" width=\"250\" alt=\"Diagram of a convolutional model.\">\n",
    "</figure>\n",
    "\n",
    "# 1) Define Model #\n",
    "\n",
    "Given the diagram above, complete the model by defining the layers of the third block."
   ]
  },
  {
   "cell_type": "code",
   "execution_count": 2,
   "id": "581ef28b",
   "metadata": {
    "execution": {
     "iopub.execute_input": "2024-08-24T10:40:01.127862Z",
     "iopub.status.busy": "2024-08-24T10:40:01.127541Z",
     "iopub.status.idle": "2024-08-24T10:40:01.312604Z",
     "shell.execute_reply": "2024-08-24T10:40:01.311532Z"
    },
    "lines_to_next_cell": 0,
    "papermill": {
     "duration": 0.194302,
     "end_time": "2024-08-24T10:40:01.315229",
     "exception": false,
     "start_time": "2024-08-24T10:40:01.120927",
     "status": "completed"
    },
    "tags": []
   },
   "outputs": [
    {
     "data": {
      "application/javascript": [
       "parent.postMessage({\"jupyterEvent\": \"custom.exercise_interaction\", \"data\": {\"outcomeType\": 1, \"valueTowardsCompletion\": 0.3333333333333333, \"interactionType\": 1, \"questionType\": 2, \"questionId\": \"1_Q1\", \"learnToolsVersion\": \"0.3.4\", \"failureMessage\": \"\", \"exceptionClass\": \"\", \"trace\": \"\"}}, \"*\")"
      ],
      "text/plain": [
       "<IPython.core.display.Javascript object>"
      ]
     },
     "metadata": {},
     "output_type": "display_data"
    },
    {
     "data": {
      "text/markdown": [
       "<span style=\"color:#33cc33\">Correct</span>"
      ],
      "text/plain": [
       "Correct"
      ]
     },
     "metadata": {},
     "output_type": "display_data"
    }
   ],
   "source": [
    "from tensorflow import keras\n",
    "from tensorflow.keras import layers\n",
    "\n",
    "model = keras.Sequential([\n",
    "    # Block One\n",
    "    layers.Conv2D(filters=32, kernel_size=3, activation='relu', padding='same',\n",
    "                  input_shape=[128, 128, 3]),\n",
    "    layers.MaxPool2D(),\n",
    "\n",
    "    # Block Two\n",
    "    layers.Conv2D(filters=64, kernel_size=3, activation='relu', padding='same'),\n",
    "    layers.MaxPool2D(),\n",
    "\n",
    "    # Block Three\n",
    "    # YOUR CODE HERE\n",
    "    layers.Conv2D(filters=128, kernel_size=3, activation='relu', padding='same'),\n",
    "    layers.Conv2D(filters=128, kernel_size=3, activation='relu', padding='same'),\n",
    "    layers.MaxPool2D(),\n",
    "\n",
    "    # Head\n",
    "    layers.Flatten(),\n",
    "    layers.Dense(6, activation='relu'),\n",
    "    layers.Dropout(0.2),\n",
    "    layers.Dense(1, activation='sigmoid'),\n",
    "])\n",
    "\n",
    "# Check your answer\n",
    "q_1.check()"
   ]
  },
  {
   "cell_type": "code",
   "execution_count": 3,
   "id": "fc5ddcba",
   "metadata": {
    "execution": {
     "iopub.execute_input": "2024-08-24T10:40:01.330468Z",
     "iopub.status.busy": "2024-08-24T10:40:01.330094Z",
     "iopub.status.idle": "2024-08-24T10:40:01.334318Z",
     "shell.execute_reply": "2024-08-24T10:40:01.333415Z"
    },
    "papermill": {
     "duration": 0.014335,
     "end_time": "2024-08-24T10:40:01.336436",
     "exception": false,
     "start_time": "2024-08-24T10:40:01.322101",
     "status": "completed"
    },
    "tags": []
   },
   "outputs": [],
   "source": [
    "# Lines below will give you a hint or solution code\n",
    "#q_1.hint()\n",
    "#q_1.solution()"
   ]
  },
  {
   "cell_type": "markdown",
   "id": "80ebd8c0",
   "metadata": {
    "papermill": {
     "duration": 0.006202,
     "end_time": "2024-08-24T10:40:01.348753",
     "exception": false,
     "start_time": "2024-08-24T10:40:01.342551",
     "status": "completed"
    },
    "tags": []
   },
   "source": [
    "# 2) Compile #\n",
    "\n",
    "To prepare for training, compile the model with an appropriate loss and accuracy metric for the \"Car or Truck\" dataset."
   ]
  },
  {
   "cell_type": "code",
   "execution_count": 4,
   "id": "106d0d05",
   "metadata": {
    "execution": {
     "iopub.execute_input": "2024-08-24T10:40:01.361828Z",
     "iopub.status.busy": "2024-08-24T10:40:01.361476Z",
     "iopub.status.idle": "2024-08-24T10:40:01.578173Z",
     "shell.execute_reply": "2024-08-24T10:40:01.577102Z"
    },
    "lines_to_next_cell": 0,
    "papermill": {
     "duration": 0.226088,
     "end_time": "2024-08-24T10:40:01.580576",
     "exception": false,
     "start_time": "2024-08-24T10:40:01.354488",
     "status": "completed"
    },
    "tags": []
   },
   "outputs": [
    {
     "data": {
      "application/javascript": [
       "parent.postMessage({\"jupyterEvent\": \"custom.exercise_interaction\", \"data\": {\"outcomeType\": 1, \"valueTowardsCompletion\": 0.3333333333333333, \"interactionType\": 1, \"questionType\": 2, \"questionId\": \"2_Q2\", \"learnToolsVersion\": \"0.3.4\", \"failureMessage\": \"\", \"exceptionClass\": \"\", \"trace\": \"\"}}, \"*\")"
      ],
      "text/plain": [
       "<IPython.core.display.Javascript object>"
      ]
     },
     "metadata": {},
     "output_type": "display_data"
    },
    {
     "data": {
      "text/markdown": [
       "<span style=\"color:#33cc33\">Correct</span>"
      ],
      "text/plain": [
       "Correct"
      ]
     },
     "metadata": {},
     "output_type": "display_data"
    }
   ],
   "source": [
    "model.compile(\n",
    "    optimizer=tf.keras.optimizers.Adam(learning_rate=0.0001),\n",
    "    loss='binary_crossentropy',\n",
    "    metrics=['binary_accuracy'],\n",
    ")\n",
    "\n",
    "# Check your answer\n",
    "q_2.check()"
   ]
  },
  {
   "cell_type": "code",
   "execution_count": 5,
   "id": "1ed2a489",
   "metadata": {
    "execution": {
     "iopub.execute_input": "2024-08-24T10:40:01.595119Z",
     "iopub.status.busy": "2024-08-24T10:40:01.594309Z",
     "iopub.status.idle": "2024-08-24T10:40:01.610118Z",
     "shell.execute_reply": "2024-08-24T10:40:01.609204Z"
    },
    "lines_to_next_cell": 0,
    "papermill": {
     "duration": 0.025435,
     "end_time": "2024-08-24T10:40:01.612303",
     "exception": false,
     "start_time": "2024-08-24T10:40:01.586868",
     "status": "completed"
    },
    "tags": []
   },
   "outputs": [
    {
     "data": {
      "application/javascript": [
       "parent.postMessage({\"jupyterEvent\": \"custom.exercise_interaction\", \"data\": {\"outcomeType\": 1, \"valueTowardsCompletion\": 0.3333333333333333, \"interactionType\": 1, \"questionType\": 2, \"questionId\": \"2_Q2\", \"learnToolsVersion\": \"0.3.4\", \"failureMessage\": \"\", \"exceptionClass\": \"\", \"trace\": \"\"}}, \"*\")"
      ],
      "text/plain": [
       "<IPython.core.display.Javascript object>"
      ]
     },
     "metadata": {},
     "output_type": "display_data"
    },
    {
     "data": {
      "text/markdown": [
       "<span style=\"color:#33cc33\">Correct</span>"
      ],
      "text/plain": [
       "Correct"
      ]
     },
     "metadata": {},
     "output_type": "display_data"
    }
   ],
   "source": [
    "model.compile(\n",
    "    optimizer=tf.keras.optimizers.Adam(epsilon=0.01),\n",
    "    loss='binary_crossentropy',\n",
    "    metrics=['binary_accuracy'],\n",
    ")\n",
    "q_2.assert_check_passed()"
   ]
  },
  {
   "cell_type": "code",
   "execution_count": 6,
   "id": "3451d5cc",
   "metadata": {
    "execution": {
     "iopub.execute_input": "2024-08-24T10:40:01.626734Z",
     "iopub.status.busy": "2024-08-24T10:40:01.626395Z",
     "iopub.status.idle": "2024-08-24T10:40:01.630239Z",
     "shell.execute_reply": "2024-08-24T10:40:01.629476Z"
    },
    "lines_to_next_cell": 0,
    "papermill": {
     "duration": 0.013014,
     "end_time": "2024-08-24T10:40:01.632141",
     "exception": false,
     "start_time": "2024-08-24T10:40:01.619127",
     "status": "completed"
    },
    "tags": []
   },
   "outputs": [],
   "source": [
    "# Lines below will give you a hint or solution code\n",
    "#q_2.hint()\n",
    "#q_2.solution()"
   ]
  },
  {
   "cell_type": "markdown",
   "id": "b2e2fbdb",
   "metadata": {
    "papermill": {
     "duration": 0.006547,
     "end_time": "2024-08-24T10:40:01.645340",
     "exception": false,
     "start_time": "2024-08-24T10:40:01.638793",
     "status": "completed"
    },
    "tags": []
   },
   "source": [
    "Finally, let's test the performance of this new model. First run this cell to fit the model to the training set."
   ]
  },
  {
   "cell_type": "code",
   "execution_count": 7,
   "id": "4ca9a9dd",
   "metadata": {
    "execution": {
     "iopub.execute_input": "2024-08-24T10:40:01.661798Z",
     "iopub.status.busy": "2024-08-24T10:40:01.661066Z",
     "iopub.status.idle": "2024-08-24T10:43:48.715944Z",
     "shell.execute_reply": "2024-08-24T10:43:48.714790Z"
    },
    "papermill": {
     "duration": 227.066446,
     "end_time": "2024-08-24T10:43:48.718516",
     "exception": false,
     "start_time": "2024-08-24T10:40:01.652070",
     "status": "completed"
    },
    "tags": []
   },
   "outputs": [
    {
     "name": "stdout",
     "output_type": "stream",
     "text": [
      "Epoch 1/50\n"
     ]
    },
    {
     "name": "stderr",
     "output_type": "stream",
     "text": [
      "WARNING: All log messages before absl::InitializeLog() is called are written to STDERR\n",
      "I0000 00:00:1724496006.233787      78 device_compiler.h:186] Compiled cluster using XLA!  This line is logged at most once for the lifetime of the process.\n"
     ]
    },
    {
     "name": "stdout",
     "output_type": "stream",
     "text": [
      "80/80 [==============================] - 16s 129ms/step - loss: 0.6806 - binary_accuracy: 0.5677 - val_loss: 0.6679 - val_binary_accuracy: 0.6070\n",
      "Epoch 2/50\n",
      "80/80 [==============================] - 4s 54ms/step - loss: 0.6678 - binary_accuracy: 0.5949 - val_loss: 0.6599 - val_binary_accuracy: 0.5785\n",
      "Epoch 3/50\n",
      "80/80 [==============================] - 4s 53ms/step - loss: 0.6635 - binary_accuracy: 0.5787 - val_loss: 0.6539 - val_binary_accuracy: 0.5787\n",
      "Epoch 4/50\n",
      "80/80 [==============================] - 4s 53ms/step - loss: 0.6572 - binary_accuracy: 0.5849 - val_loss: 0.6411 - val_binary_accuracy: 0.6347\n",
      "Epoch 5/50\n",
      "80/80 [==============================] - 4s 53ms/step - loss: 0.6502 - binary_accuracy: 0.6097 - val_loss: 0.6350 - val_binary_accuracy: 0.6397\n",
      "Epoch 6/50\n",
      "80/80 [==============================] - 4s 53ms/step - loss: 0.6438 - binary_accuracy: 0.6303 - val_loss: 0.6217 - val_binary_accuracy: 0.6510\n",
      "Epoch 7/50\n",
      "80/80 [==============================] - 4s 53ms/step - loss: 0.6278 - binary_accuracy: 0.6471 - val_loss: 0.6151 - val_binary_accuracy: 0.6520\n",
      "Epoch 8/50\n",
      "80/80 [==============================] - 4s 53ms/step - loss: 0.6234 - binary_accuracy: 0.6564 - val_loss: 0.6084 - val_binary_accuracy: 0.6680\n",
      "Epoch 9/50\n",
      "80/80 [==============================] - 4s 53ms/step - loss: 0.6129 - binary_accuracy: 0.6664 - val_loss: 0.5978 - val_binary_accuracy: 0.6714\n",
      "Epoch 10/50\n",
      "80/80 [==============================] - 4s 53ms/step - loss: 0.6029 - binary_accuracy: 0.6736 - val_loss: 0.6076 - val_binary_accuracy: 0.6632\n",
      "Epoch 11/50\n",
      "80/80 [==============================] - 4s 54ms/step - loss: 0.5987 - binary_accuracy: 0.6768 - val_loss: 0.5837 - val_binary_accuracy: 0.6866\n",
      "Epoch 12/50\n",
      "80/80 [==============================] - 4s 54ms/step - loss: 0.5790 - binary_accuracy: 0.7071 - val_loss: 0.5756 - val_binary_accuracy: 0.6945\n",
      "Epoch 13/50\n",
      "80/80 [==============================] - 4s 54ms/step - loss: 0.5601 - binary_accuracy: 0.7233 - val_loss: 0.5435 - val_binary_accuracy: 0.7335\n",
      "Epoch 14/50\n",
      "80/80 [==============================] - 4s 54ms/step - loss: 0.5311 - binary_accuracy: 0.7532 - val_loss: 0.5216 - val_binary_accuracy: 0.7438\n",
      "Epoch 15/50\n",
      "80/80 [==============================] - 4s 54ms/step - loss: 0.5119 - binary_accuracy: 0.7594 - val_loss: 0.5116 - val_binary_accuracy: 0.7458\n",
      "Epoch 16/50\n",
      "80/80 [==============================] - 4s 54ms/step - loss: 0.4838 - binary_accuracy: 0.7719 - val_loss: 0.4897 - val_binary_accuracy: 0.7646\n",
      "Epoch 17/50\n",
      "80/80 [==============================] - 4s 54ms/step - loss: 0.4615 - binary_accuracy: 0.7907 - val_loss: 0.4679 - val_binary_accuracy: 0.7723\n",
      "Epoch 18/50\n",
      "80/80 [==============================] - 4s 54ms/step - loss: 0.4403 - binary_accuracy: 0.7979 - val_loss: 0.4978 - val_binary_accuracy: 0.7577\n",
      "Epoch 19/50\n",
      "80/80 [==============================] - 4s 54ms/step - loss: 0.3958 - binary_accuracy: 0.8173 - val_loss: 0.4514 - val_binary_accuracy: 0.7882\n",
      "Epoch 20/50\n",
      "80/80 [==============================] - 4s 54ms/step - loss: 0.3786 - binary_accuracy: 0.8300 - val_loss: 0.4559 - val_binary_accuracy: 0.7856\n",
      "Epoch 21/50\n",
      "80/80 [==============================] - 4s 54ms/step - loss: 0.3545 - binary_accuracy: 0.8446 - val_loss: 0.4231 - val_binary_accuracy: 0.8078\n",
      "Epoch 22/50\n",
      "80/80 [==============================] - 4s 54ms/step - loss: 0.3502 - binary_accuracy: 0.8489 - val_loss: 0.4379 - val_binary_accuracy: 0.8014\n",
      "Epoch 23/50\n",
      "80/80 [==============================] - 4s 54ms/step - loss: 0.3289 - binary_accuracy: 0.8503 - val_loss: 0.4319 - val_binary_accuracy: 0.8078\n",
      "Epoch 24/50\n",
      "80/80 [==============================] - 4s 54ms/step - loss: 0.3096 - binary_accuracy: 0.8601 - val_loss: 0.4156 - val_binary_accuracy: 0.8147\n",
      "Epoch 25/50\n",
      "80/80 [==============================] - 4s 54ms/step - loss: 0.2878 - binary_accuracy: 0.8695 - val_loss: 0.4317 - val_binary_accuracy: 0.8149\n",
      "Epoch 26/50\n",
      "80/80 [==============================] - 4s 54ms/step - loss: 0.2668 - binary_accuracy: 0.8824 - val_loss: 0.4418 - val_binary_accuracy: 0.8175\n",
      "Epoch 27/50\n",
      "80/80 [==============================] - 4s 54ms/step - loss: 0.2454 - binary_accuracy: 0.8894 - val_loss: 0.4143 - val_binary_accuracy: 0.8323\n",
      "Epoch 28/50\n",
      "80/80 [==============================] - 4s 54ms/step - loss: 0.2676 - binary_accuracy: 0.8777 - val_loss: 0.4041 - val_binary_accuracy: 0.8337\n",
      "Epoch 29/50\n",
      "80/80 [==============================] - 4s 54ms/step - loss: 0.2583 - binary_accuracy: 0.8831 - val_loss: 0.5851 - val_binary_accuracy: 0.7816\n",
      "Epoch 30/50\n",
      "80/80 [==============================] - 4s 54ms/step - loss: 0.2264 - binary_accuracy: 0.8966 - val_loss: 0.5183 - val_binary_accuracy: 0.8048\n",
      "Epoch 31/50\n",
      "80/80 [==============================] - 4s 54ms/step - loss: 0.1922 - binary_accuracy: 0.9132 - val_loss: 0.4868 - val_binary_accuracy: 0.8032\n",
      "Epoch 32/50\n",
      "80/80 [==============================] - 4s 54ms/step - loss: 0.1717 - binary_accuracy: 0.9234 - val_loss: 0.5784 - val_binary_accuracy: 0.8101\n",
      "Epoch 33/50\n",
      "80/80 [==============================] - 4s 54ms/step - loss: 0.1558 - binary_accuracy: 0.9236 - val_loss: 0.4591 - val_binary_accuracy: 0.8474\n",
      "Epoch 34/50\n",
      "80/80 [==============================] - 4s 54ms/step - loss: 0.1291 - binary_accuracy: 0.9377 - val_loss: 0.5271 - val_binary_accuracy: 0.8454\n",
      "Epoch 35/50\n",
      "80/80 [==============================] - 4s 54ms/step - loss: 0.1140 - binary_accuracy: 0.9425 - val_loss: 0.5530 - val_binary_accuracy: 0.8434\n",
      "Epoch 36/50\n",
      "80/80 [==============================] - 4s 54ms/step - loss: 0.1094 - binary_accuracy: 0.9449 - val_loss: 0.5005 - val_binary_accuracy: 0.8404\n",
      "Epoch 37/50\n",
      "80/80 [==============================] - 4s 54ms/step - loss: 0.1139 - binary_accuracy: 0.9412 - val_loss: 0.6796 - val_binary_accuracy: 0.8218\n",
      "Epoch 38/50\n",
      "80/80 [==============================] - 4s 54ms/step - loss: 0.1215 - binary_accuracy: 0.9349 - val_loss: 0.6828 - val_binary_accuracy: 0.8218\n",
      "Epoch 39/50\n",
      "80/80 [==============================] - 4s 54ms/step - loss: 0.1152 - binary_accuracy: 0.9414 - val_loss: 0.5930 - val_binary_accuracy: 0.8282\n",
      "Epoch 40/50\n",
      "80/80 [==============================] - 4s 54ms/step - loss: 0.1111 - binary_accuracy: 0.9388 - val_loss: 0.5818 - val_binary_accuracy: 0.8404\n",
      "Epoch 41/50\n",
      "80/80 [==============================] - 4s 54ms/step - loss: 0.1039 - binary_accuracy: 0.9400 - val_loss: 0.5216 - val_binary_accuracy: 0.8448\n",
      "Epoch 42/50\n",
      "80/80 [==============================] - 4s 54ms/step - loss: 0.1050 - binary_accuracy: 0.9437 - val_loss: 0.5663 - val_binary_accuracy: 0.8410\n",
      "Epoch 43/50\n",
      "80/80 [==============================] - 4s 54ms/step - loss: 0.0956 - binary_accuracy: 0.9482 - val_loss: 0.5635 - val_binary_accuracy: 0.8264\n",
      "Epoch 44/50\n",
      "80/80 [==============================] - 4s 54ms/step - loss: 0.0849 - binary_accuracy: 0.9513 - val_loss: 0.8157 - val_binary_accuracy: 0.7953\n",
      "Epoch 45/50\n",
      "80/80 [==============================] - 4s 54ms/step - loss: 0.0817 - binary_accuracy: 0.9517 - val_loss: 0.7132 - val_binary_accuracy: 0.8198\n",
      "Epoch 46/50\n",
      "80/80 [==============================] - 4s 54ms/step - loss: 0.0767 - binary_accuracy: 0.9552 - val_loss: 0.6477 - val_binary_accuracy: 0.8406\n",
      "Epoch 47/50\n",
      "80/80 [==============================] - 4s 55ms/step - loss: 0.0769 - binary_accuracy: 0.9547 - val_loss: 0.6059 - val_binary_accuracy: 0.8424\n",
      "Epoch 48/50\n",
      "80/80 [==============================] - 4s 54ms/step - loss: 0.0610 - binary_accuracy: 0.9605 - val_loss: 0.6406 - val_binary_accuracy: 0.8553\n",
      "Epoch 49/50\n",
      "80/80 [==============================] - 4s 54ms/step - loss: 0.0548 - binary_accuracy: 0.9613 - val_loss: 0.6815 - val_binary_accuracy: 0.8509\n",
      "Epoch 50/50\n",
      "80/80 [==============================] - 4s 54ms/step - loss: 0.0566 - binary_accuracy: 0.9615 - val_loss: 0.7373 - val_binary_accuracy: 0.8480\n"
     ]
    }
   ],
   "source": [
    "history = model.fit(\n",
    "    ds_train,\n",
    "    validation_data=ds_valid,\n",
    "    epochs=50,\n",
    ")"
   ]
  },
  {
   "cell_type": "markdown",
   "id": "33d464a7",
   "metadata": {
    "papermill": {
     "duration": 0.188339,
     "end_time": "2024-08-24T10:43:49.113898",
     "exception": false,
     "start_time": "2024-08-24T10:43:48.925559",
     "status": "completed"
    },
    "tags": []
   },
   "source": [
    "And now run the cell below to plot the loss and metric curves for this training run."
   ]
  },
  {
   "cell_type": "code",
   "execution_count": 8,
   "id": "575d8571",
   "metadata": {
    "execution": {
     "iopub.execute_input": "2024-08-24T10:43:49.490428Z",
     "iopub.status.busy": "2024-08-24T10:43:49.490071Z",
     "iopub.status.idle": "2024-08-24T10:43:50.285955Z",
     "shell.execute_reply": "2024-08-24T10:43:50.285024Z"
    },
    "papermill": {
     "duration": 0.987842,
     "end_time": "2024-08-24T10:43:50.288060",
     "exception": false,
     "start_time": "2024-08-24T10:43:49.300218",
     "status": "completed"
    },
    "tags": []
   },
   "outputs": [
    {
     "data": {
      "image/png": "[encoded data removed]",
      "text/plain": [
       "<Figure size 640x480 with 1 Axes>"
      ]
     },
     "metadata": {},
     "output_type": "display_data"
    },
    {
     "data": {
      "image/png": "[encoded data removed]",
      "text/plain": [
       "<Figure size 640x480 with 1 Axes>"
      ]
     },
     "metadata": {},
     "output_type": "display_data"
    }
   ],
   "source": [
    "import pandas as pd\n",
    "history_frame = pd.DataFrame(history.history)\n",
    "history_frame.loc[:, ['loss', 'val_loss']].plot()\n",
    "history_frame.loc[:, ['binary_accuracy', 'val_binary_accuracy']].plot();"
   ]
  },
  {
   "cell_type": "markdown",
   "id": "e80474b1",
   "metadata": {
    "papermill": {
     "duration": 0.188158,
     "end_time": "2024-08-24T10:43:50.666939",
     "exception": false,
     "start_time": "2024-08-24T10:43:50.478781",
     "status": "completed"
    },
    "tags": []
   },
   "source": [
    "# 3) Train the Model #\n",
    "\n",
    "How would you interpret these training curves? Did this model improve upon the model from the tutorial?"
   ]
  },
  {
   "cell_type": "code",
   "execution_count": 9,
   "id": "138b6087",
   "metadata": {
    "execution": {
     "iopub.execute_input": "2024-08-24T10:43:51.047761Z",
     "iopub.status.busy": "2024-08-24T10:43:51.046811Z",
     "iopub.status.idle": "2024-08-24T10:43:51.055046Z",
     "shell.execute_reply": "2024-08-24T10:43:51.054082Z"
    },
    "lines_to_next_cell": 0,
    "papermill": {
     "duration": 0.200796,
     "end_time": "2024-08-24T10:43:51.057313",
     "exception": false,
     "start_time": "2024-08-24T10:43:50.856517",
     "status": "completed"
    },
    "tags": []
   },
   "outputs": [
    {
     "data": {
      "application/javascript": [
       "parent.postMessage({\"jupyterEvent\": \"custom.exercise_interaction\", \"data\": {\"outcomeType\": 1, \"valueTowardsCompletion\": 0.3333333333333333, \"interactionType\": 1, \"questionType\": 4, \"questionId\": \"3_Q3\", \"learnToolsVersion\": \"0.3.4\", \"failureMessage\": \"\", \"exceptionClass\": \"\", \"trace\": \"\"}}, \"*\")"
      ],
      "text/plain": [
       "<IPython.core.display.Javascript object>"
      ]
     },
     "metadata": {},
     "output_type": "display_data"
    },
    {
     "data": {
      "text/markdown": [
       "<span style=\"color:#33cc33\">Correct:</span> \n",
       "\n",
       "\n",
       "The learning curves for the model from the tutorial diverged fairly rapidly. This would indicate that it was prone to overfitting and in need of some regularization. The additional layer in our new model would make it even more prone to overfitting. However, adding some regularization with the `Dropout` layer helped prevent this. These changes improved the validation accuracy of the model by several points.\n"
      ],
      "text/plain": [
       "Correct: \n",
       "\n",
       "\n",
       "The learning curves for the model from the tutorial diverged fairly rapidly. This would indicate that it was prone to overfitting and in need of some regularization. The additional layer in our new model would make it even more prone to overfitting. However, adding some regularization with the `Dropout` layer helped prevent this. These changes improved the validation accuracy of the model by several points."
      ]
     },
     "metadata": {},
     "output_type": "display_data"
    }
   ],
   "source": [
    "# View the solution (Run this code cell to receive credit!)\n",
    "q_3.check()"
   ]
  },
  {
   "cell_type": "markdown",
   "id": "70717814",
   "metadata": {
    "papermill": {
     "duration": 0.194436,
     "end_time": "2024-08-24T10:43:51.440512",
     "exception": false,
     "start_time": "2024-08-24T10:43:51.246076",
     "status": "completed"
    },
    "tags": []
   },
   "source": [
    "# Conclusion #\n",
    "\n",
    "These exercises showed you how to design a custom convolutional network to solve a specific classification problem. Though most models these days will be built on top of a pretrained base, it certain circumstances a smaller custom convnet might still be preferable -- such as with a smaller or unusual dataset or when computing resources are very limited. As you saw here, for certain problems they can perform just as well as a pretrained model.\n",
    "\n",
    "# Keep Going #\n",
    "\n",
    "Continue on to [**Lesson 6**](https://www.kaggle.com/ryanholbrook/data-augmentation), where you'll learn a widely-used technique that can give a boost to your training data: **data augmentation**."
   ]
  },
  {
   "cell_type": "markdown",
   "id": "d83816b2",
   "metadata": {
    "papermill": {
     "duration": 0.193777,
     "end_time": "2024-08-24T10:43:51.826453",
     "exception": false,
     "start_time": "2024-08-24T10:43:51.632676",
     "status": "completed"
    },
    "tags": []
   },
   "source": [
    "---\n",
    "\n",
    "\n",
    "\n",
    "\n",
    "*Have questions or comments? Visit the [course discussion forum](https://www.kaggle.com/learn/computer-vision/discussion) to chat with other learners.*"
   ]
  }
 ],
 "metadata": {
  "jupytext": {
   "formats": "md,ipynb"
  },
  "kaggle": {
   "accelerator": "nvidiaTeslaT4",
   "dataSources": [
    {
     "datasetId": 708136,
     "sourceId": 1338830,
     "sourceType": "datasetVersion"
    },
    {
     "datasetId": 701538,
     "sourceId": 1363948,
     "sourceType": "datasetVersion"
    },
    {
     "datasetId": 878523,
     "sourceId": 1495782,
     "sourceType": "datasetVersion"
    }
   ],
   "dockerImageVersionId": 30648,
   "isGpuEnabled": true,
   "isInternetEnabled": false,
   "language": "python",
   "sourceType": "notebook"
  },
  "kernelspec": {
   "display_name": "Python 3",
   "language": "python",
   "name": "python3"
  },
  "language_info": {
   "codemirror_mode": {
    "name": "ipython",
    "version": 3
   },
   "file_extension": ".py",
   "mimetype": "text/x-python",
   "name": "python",
   "nbconvert_exporter": "python",
   "pygments_lexer": "ipython3",
   "version": "3.10.13"
  },
  "papermill": {
   "default_parameters": {},
   "duration": 259.594857,
   "end_time": "2024-08-24T10:43:55.289442",
   "environment_variables": {},
   "exception": null,
   "input_path": "__notebook__.ipynb",
   "output_path": "__notebook__.ipynb",
   "parameters": {},
   "start_time": "2024-08-24T10:39:35.694585",
   "version": "2.5.0"
  }
 },
 "nbformat": 4,
 "nbformat_minor": 5
}
